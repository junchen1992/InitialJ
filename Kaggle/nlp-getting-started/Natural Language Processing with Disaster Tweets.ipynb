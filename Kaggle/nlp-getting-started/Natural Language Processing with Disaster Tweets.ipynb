{
 "cells": [
  {
   "cell_type": "markdown",
   "metadata": {},
   "source": [
    "# 0. Import Packages"
   ]
  },
  {
   "cell_type": "code",
   "execution_count": 35,
   "metadata": {},
   "outputs": [],
   "source": [
    "import matplotlib.pyplot as plt\n",
    "import numpy as np\n",
    "import pandas as pd\n",
    "from sklearn.model_selection import train_test_split"
   ]
  },
  {
   "cell_type": "code",
   "execution_count": 2,
   "metadata": {},
   "outputs": [],
   "source": [
    "# Various paths\n",
    "DATA_DIR = '../data/nlp-getting-started/'\n",
    "TRAIN_PATH = DATA_DIR + 'train.csv'\n",
    "TEST_PATH = DATA_DIR + 'test.csv'"
   ]
  },
  {
   "cell_type": "markdown",
   "metadata": {},
   "source": [
    "# 1. Data Exploration"
   ]
  },
  {
   "cell_type": "markdown",
   "metadata": {},
   "source": [
    "## 1.1 Training Data Analysis"
   ]
  },
  {
   "cell_type": "code",
   "execution_count": 3,
   "metadata": {},
   "outputs": [],
   "source": [
    "train = pd.read_csv(TRAIN_PATH)"
   ]
  },
  {
   "cell_type": "code",
   "execution_count": 4,
   "metadata": {},
   "outputs": [
    {
     "data": {
      "text/html": [
       "<div>\n",
       "<style scoped>\n",
       "    .dataframe tbody tr th:only-of-type {\n",
       "        vertical-align: middle;\n",
       "    }\n",
       "\n",
       "    .dataframe tbody tr th {\n",
       "        vertical-align: top;\n",
       "    }\n",
       "\n",
       "    .dataframe thead th {\n",
       "        text-align: right;\n",
       "    }\n",
       "</style>\n",
       "<table border=\"1\" class=\"dataframe\">\n",
       "  <thead>\n",
       "    <tr style=\"text-align: right;\">\n",
       "      <th></th>\n",
       "      <th>id</th>\n",
       "      <th>keyword</th>\n",
       "      <th>location</th>\n",
       "      <th>text</th>\n",
       "      <th>target</th>\n",
       "    </tr>\n",
       "  </thead>\n",
       "  <tbody>\n",
       "    <tr>\n",
       "      <th>0</th>\n",
       "      <td>1</td>\n",
       "      <td>NaN</td>\n",
       "      <td>NaN</td>\n",
       "      <td>Our Deeds are the Reason of this #earthquake M...</td>\n",
       "      <td>1</td>\n",
       "    </tr>\n",
       "    <tr>\n",
       "      <th>1</th>\n",
       "      <td>4</td>\n",
       "      <td>NaN</td>\n",
       "      <td>NaN</td>\n",
       "      <td>Forest fire near La Ronge Sask. Canada</td>\n",
       "      <td>1</td>\n",
       "    </tr>\n",
       "    <tr>\n",
       "      <th>2</th>\n",
       "      <td>5</td>\n",
       "      <td>NaN</td>\n",
       "      <td>NaN</td>\n",
       "      <td>All residents asked to 'shelter in place' are ...</td>\n",
       "      <td>1</td>\n",
       "    </tr>\n",
       "    <tr>\n",
       "      <th>3</th>\n",
       "      <td>6</td>\n",
       "      <td>NaN</td>\n",
       "      <td>NaN</td>\n",
       "      <td>13,000 people receive #wildfires evacuation or...</td>\n",
       "      <td>1</td>\n",
       "    </tr>\n",
       "    <tr>\n",
       "      <th>4</th>\n",
       "      <td>7</td>\n",
       "      <td>NaN</td>\n",
       "      <td>NaN</td>\n",
       "      <td>Just got sent this photo from Ruby #Alaska as ...</td>\n",
       "      <td>1</td>\n",
       "    </tr>\n",
       "  </tbody>\n",
       "</table>\n",
       "</div>"
      ],
      "text/plain": [
       "   id keyword location                                               text  \\\n",
       "0   1     NaN      NaN  Our Deeds are the Reason of this #earthquake M...   \n",
       "1   4     NaN      NaN             Forest fire near La Ronge Sask. Canada   \n",
       "2   5     NaN      NaN  All residents asked to 'shelter in place' are ...   \n",
       "3   6     NaN      NaN  13,000 people receive #wildfires evacuation or...   \n",
       "4   7     NaN      NaN  Just got sent this photo from Ruby #Alaska as ...   \n",
       "\n",
       "   target  \n",
       "0       1  \n",
       "1       1  \n",
       "2       1  \n",
       "3       1  \n",
       "4       1  "
      ]
     },
     "execution_count": 4,
     "metadata": {},
     "output_type": "execute_result"
    }
   ],
   "source": [
    "train.head()"
   ]
  },
  {
   "cell_type": "code",
   "execution_count": 5,
   "metadata": {},
   "outputs": [
    {
     "data": {
      "text/plain": [
       "{0: 4342, 1: 3271}"
      ]
     },
     "execution_count": 5,
     "metadata": {},
     "output_type": "execute_result"
    }
   ],
   "source": [
    "train.target.value_counts().to_dict()"
   ]
  },
  {
   "cell_type": "code",
   "execution_count": 6,
   "metadata": {},
   "outputs": [
    {
     "data": {
      "text/plain": [
       "id           int64\n",
       "keyword     object\n",
       "location    object\n",
       "text        object\n",
       "target       int64\n",
       "dtype: object"
      ]
     },
     "execution_count": 6,
     "metadata": {},
     "output_type": "execute_result"
    }
   ],
   "source": [
    "train.dtypes"
   ]
  },
  {
   "cell_type": "code",
   "execution_count": 7,
   "metadata": {},
   "outputs": [
    {
     "data": {
      "image/png": "[encoded data removed]",
      "text/plain": [
       "<Figure size 432x288 with 1 Axes>"
      ]
     },
     "metadata": {
      "needs_background": "light"
     },
     "output_type": "display_data"
    }
   ],
   "source": [
    "def plot_class_distributions(train_data: pd.DataFrame, column_name: str):\n",
    "    counts = train_data.target.value_counts().to_dict()\n",
    "    x_arr = [0, 1]\n",
    "    y_arr = list(map(lambda c: counts.get(c, 0), x_arr))\n",
    "    \n",
    "    fig, ax = plt.subplots()\n",
    "    ax.bar(x_arr, y_arr)\n",
    "    ax.set_xlabel('Target')\n",
    "    ax.set_ylabel('Count')\n",
    "    ax.set_xticks(x_arr)\n",
    "    ax.set_title('Training Data Classes Distribution')\n",
    "    \n",
    "    plt.show()\n",
    "\n",
    "plot_class_distributions(train, 'target')"
   ]
  },
  {
   "cell_type": "markdown",
   "metadata": {},
   "source": [
    "## 1.2 Prepare datasets"
   ]
  },
  {
   "cell_type": "code",
   "execution_count": 8,
   "metadata": {},
   "outputs": [],
   "source": [
    "X, y = train['text'].tolist(), train['target'].tolist()\n",
    "\n",
    "# Train & Dev dataset splitting\n",
    "X_train, X_dev, y_train, y_dev = train_test_split(X, y, test_size=0.2, random_state=1)"
   ]
  },
  {
   "cell_type": "code",
   "execution_count": 9,
   "metadata": {},
   "outputs": [
    {
     "name": "stdout",
     "output_type": "stream",
     "text": [
      "Training dataset size: 6090\n",
      "Dev dataset size: 1523\n"
     ]
    }
   ],
   "source": [
    "print('Training dataset size:', len(X_train))\n",
    "print('Dev dataset size:', len(X_dev))"
   ]
  },
  {
   "cell_type": "markdown",
   "metadata": {},
   "source": [
    "# 2. Data Pre-processing\n",
    "\n",
    "Since the input data is textual data, it should be converted to numeric vectors first before feeding into models."
   ]
  },
  {
   "cell_type": "markdown",
   "metadata": {},
   "source": [
    "# 3. Model selection"
   ]
  },
  {
   "cell_type": "markdown",
   "metadata": {},
   "source": [
    "## 3.1 Baseline Model: TF-IDF + Logistic Regression"
   ]
  },
  {
   "cell_type": "code",
   "execution_count": 10,
   "metadata": {},
   "outputs": [],
   "source": [
    "from sklearn.feature_extraction.text import TfidfVectorizer\n",
    "from sklearn.linear_model import LogisticRegression\n",
    "from sklearn.metrics import classification_report"
   ]
  },
  {
   "cell_type": "code",
   "execution_count": 11,
   "metadata": {},
   "outputs": [
    {
     "data": {
      "text/plain": [
       "TfidfVectorizer(max_features=300)"
      ]
     },
     "execution_count": 11,
     "metadata": {},
     "output_type": "execute_result"
    }
   ],
   "source": [
    "vectorizer = TfidfVectorizer(max_features=300)\n",
    "vectorizer.fit(X)"
   ]
  },
  {
   "cell_type": "code",
   "execution_count": 12,
   "metadata": {},
   "outputs": [],
   "source": [
    "def pre_process(sents):\n",
    "    return vectorizer.transform(sents)"
   ]
  },
  {
   "cell_type": "code",
   "execution_count": 13,
   "metadata": {},
   "outputs": [
    {
     "data": {
      "text/plain": [
       "0.780295566502463"
      ]
     },
     "execution_count": 13,
     "metadata": {},
     "output_type": "execute_result"
    }
   ],
   "source": [
    "lr_model = LogisticRegression(max_iter=100)\n",
    "X_train_preprocessed = pre_process(X_train)\n",
    "lr_model.fit(X_train_preprocessed, y_train)\n",
    "lr_model.score(X_train_preprocessed, y_train)"
   ]
  },
  {
   "cell_type": "code",
   "execution_count": 14,
   "metadata": {},
   "outputs": [
    {
     "name": "stdout",
     "output_type": "stream",
     "text": [
      "              precision    recall  f1-score   support\n",
      "\n",
      "     class 0       0.77      0.87      0.82      3460\n",
      "     class 1       0.79      0.66      0.72      2630\n",
      "\n",
      "    accuracy                           0.78      6090\n",
      "   macro avg       0.78      0.77      0.77      6090\n",
      "weighted avg       0.78      0.78      0.78      6090\n",
      "\n"
     ]
    }
   ],
   "source": [
    "y_pred_train = lr_model.predict(X_train_preprocessed)\n",
    "y_true_train = y_train\n",
    "target_names = ['class 0', 'class 1']\n",
    "print(classification_report(y_true_train, y_pred_train, target_names=target_names))"
   ]
  },
  {
   "cell_type": "code",
   "execution_count": 15,
   "metadata": {},
   "outputs": [
    {
     "data": {
      "text/plain": [
       "300"
      ]
     },
     "execution_count": 15,
     "metadata": {},
     "output_type": "execute_result"
    }
   ],
   "source": [
    "input_dim = len(vectorizer.get_feature_names())\n",
    "input_dim"
   ]
  },
  {
   "cell_type": "code",
   "execution_count": 16,
   "metadata": {},
   "outputs": [
    {
     "name": "stdout",
     "output_type": "stream",
     "text": [
      "              precision    recall  f1-score   support\n",
      "\n",
      "     class 0       0.76      0.87      0.81       882\n",
      "     class 1       0.78      0.63      0.70       641\n",
      "\n",
      "    accuracy                           0.77      1523\n",
      "   macro avg       0.77      0.75      0.76      1523\n",
      "weighted avg       0.77      0.77      0.76      1523\n",
      "\n"
     ]
    }
   ],
   "source": [
    "y_pred_dev = lr_model.predict(pre_process(X_dev))\n",
    "y_true_dev = y_dev\n",
    "target_names = ['class 0', 'class 1']\n",
    "print(classification_report(y_true_dev, y_pred_dev, target_names=target_names))"
   ]
  },
  {
   "cell_type": "markdown",
   "metadata": {},
   "source": [
    "## 3.2  TF-IDF + Shallow Neural Networks\n",
    "\n",
    "The model architecture will be:\n",
    "\n",
    "- Input layer: of shape (300,).\n",
    "- Dense layer: with ReLU activation.\n",
    "- Dense layer: with Sigmoid activation."
   ]
  },
  {
   "cell_type": "code",
   "execution_count": 17,
   "metadata": {},
   "outputs": [],
   "source": [
    "from tensorflow import keras\n",
    "from tensorflow.keras import layers as tfl"
   ]
  },
  {
   "cell_type": "code",
   "execution_count": 18,
   "metadata": {},
   "outputs": [],
   "source": [
    "input_ = X_train_preprocessed.toarray().tolist()"
   ]
  },
  {
   "cell_type": "code",
   "execution_count": 33,
   "metadata": {},
   "outputs": [
    {
     "name": "stdout",
     "output_type": "stream",
     "text": [
      "Model: \"sequential_5\"\n",
      "_________________________________________________________________\n",
      "Layer (type)                 Output Shape              Param #   \n",
      "=================================================================\n",
      "layer1 (Dense)               (None, 2)                 602       \n",
      "_________________________________________________________________\n",
      "layer2 (Dense)               (None, 1)                 3         \n",
      "=================================================================\n",
      "Total params: 605\n",
      "Trainable params: 605\n",
      "Non-trainable params: 0\n",
      "_________________________________________________________________\n"
     ]
    }
   ],
   "source": [
    "model = keras.Sequential(\n",
    "    [\n",
    "        tfl.Input(shape=(input_dim,), dtype='float32'),\n",
    "        tfl.Dense(units=2, activation='relu', name='layer1'),\n",
    "        tfl.Dense(units=1, activation='sigmoid', name='layer2'),\n",
    "    ]\n",
    ")\n",
    "\n",
    "model.compile(\n",
    "    optimizer=keras.optimizers.RMSprop(learning_rate=0.1),\n",
    "    loss='binary_crossentropy',\n",
    "    metrics=['accuracy'],\n",
    ")\n",
    "\n",
    "model.summary()"
   ]
  },
  {
   "cell_type": "code",
   "execution_count": 34,
   "metadata": {
    "scrolled": true
   },
   "outputs": [
    {
     "name": "stdout",
     "output_type": "stream",
     "text": [
      "Epoch 1/100\n",
      "191/191 [==============================] - 0s 2ms/step - loss: 0.5598 - accuracy: 0.7218\n",
      "Epoch 2/100\n",
      "191/191 [==============================] - 0s 1ms/step - loss: 0.4997 - accuracy: 0.7642\n",
      "Epoch 3/100\n",
      "191/191 [==============================] - 0s 2ms/step - loss: 0.4875 - accuracy: 0.7736\n",
      "Epoch 4/100\n",
      "191/191 [==============================] - 1s 6ms/step - loss: 0.4830 - accuracy: 0.7767\n",
      "Epoch 5/100\n",
      "191/191 [==============================] - 1s 3ms/step - loss: 0.4800 - accuracy: 0.7821\n",
      "Epoch 6/100\n",
      "191/191 [==============================] - 0s 2ms/step - loss: 0.4776 - accuracy: 0.7829\n",
      "Epoch 7/100\n",
      "191/191 [==============================] - 0s 3ms/step - loss: 0.4757 - accuracy: 0.7828\n",
      "Epoch 8/100\n",
      "191/191 [==============================] - 0s 3ms/step - loss: 0.4720 - accuracy: 0.7854\n",
      "Epoch 9/100\n",
      "191/191 [==============================] - 0s 3ms/step - loss: 0.4736 - accuracy: 0.7887\n",
      "Epoch 10/100\n",
      "191/191 [==============================] - 1s 3ms/step - loss: 0.4754 - accuracy: 0.7870\n",
      "Epoch 11/100\n",
      "191/191 [==============================] - 0s 2ms/step - loss: 0.4729 - accuracy: 0.7905\n",
      "Epoch 12/100\n",
      "191/191 [==============================] - 0s 2ms/step - loss: 0.4710 - accuracy: 0.7849\n",
      "Epoch 13/100\n",
      "191/191 [==============================] - 0s 2ms/step - loss: 0.4720 - accuracy: 0.7901\n",
      "Epoch 14/100\n",
      "191/191 [==============================] - 0s 2ms/step - loss: 0.4756 - accuracy: 0.7888\n",
      "Epoch 15/100\n",
      "191/191 [==============================] - 0s 2ms/step - loss: 0.4743 - accuracy: 0.7895\n",
      "Epoch 16/100\n",
      "191/191 [==============================] - 0s 2ms/step - loss: 0.4716 - accuracy: 0.7924\n",
      "Epoch 17/100\n",
      "191/191 [==============================] - 0s 2ms/step - loss: 0.4732 - accuracy: 0.7885\n",
      "Epoch 18/100\n",
      "191/191 [==============================] - 0s 2ms/step - loss: 0.4682 - accuracy: 0.7905\n",
      "Epoch 19/100\n",
      "191/191 [==============================] - 0s 2ms/step - loss: 0.4722 - accuracy: 0.7916\n",
      "Epoch 20/100\n",
      "191/191 [==============================] - 0s 2ms/step - loss: 0.4719 - accuracy: 0.7897\n",
      "Epoch 21/100\n",
      "191/191 [==============================] - 0s 2ms/step - loss: 0.4724 - accuracy: 0.7924\n",
      "Epoch 22/100\n",
      "191/191 [==============================] - 0s 2ms/step - loss: 0.4696 - accuracy: 0.7947\n",
      "Epoch 23/100\n",
      "191/191 [==============================] - 0s 2ms/step - loss: 0.4726 - accuracy: 0.7911\n",
      "Epoch 24/100\n",
      "191/191 [==============================] - 0s 2ms/step - loss: 0.4696 - accuracy: 0.7920\n",
      "Epoch 25/100\n",
      "191/191 [==============================] - 0s 2ms/step - loss: 0.4691 - accuracy: 0.7923\n",
      "Epoch 26/100\n",
      "191/191 [==============================] - 0s 2ms/step - loss: 0.4730 - accuracy: 0.7900\n",
      "Epoch 27/100\n",
      "191/191 [==============================] - 0s 2ms/step - loss: 0.4706 - accuracy: 0.7933\n",
      "Epoch 28/100\n",
      "191/191 [==============================] - 0s 2ms/step - loss: 0.4727 - accuracy: 0.7916\n",
      "Epoch 29/100\n",
      "191/191 [==============================] - 0s 3ms/step - loss: 0.4717 - accuracy: 0.7946\n",
      "Epoch 30/100\n",
      "191/191 [==============================] - 0s 2ms/step - loss: 0.4741 - accuracy: 0.7926\n",
      "Epoch 31/100\n",
      "191/191 [==============================] - 0s 2ms/step - loss: 0.4707 - accuracy: 0.7928\n",
      "Epoch 32/100\n",
      "191/191 [==============================] - 0s 2ms/step - loss: 0.4763 - accuracy: 0.7920\n",
      "Epoch 33/100\n",
      "191/191 [==============================] - 0s 2ms/step - loss: 0.4723 - accuracy: 0.7938\n",
      "Epoch 34/100\n",
      "191/191 [==============================] - 0s 2ms/step - loss: 0.4703 - accuracy: 0.7959\n",
      "Epoch 35/100\n",
      "191/191 [==============================] - 0s 2ms/step - loss: 0.4735 - accuracy: 0.7949\n",
      "Epoch 36/100\n",
      "191/191 [==============================] - 0s 2ms/step - loss: 0.4751 - accuracy: 0.7911\n",
      "Epoch 37/100\n",
      "191/191 [==============================] - 0s 2ms/step - loss: 0.4726 - accuracy: 0.7921\n",
      "Epoch 38/100\n",
      "191/191 [==============================] - 0s 2ms/step - loss: 0.4740 - accuracy: 0.7931\n",
      "Epoch 39/100\n",
      "191/191 [==============================] - 1s 3ms/step - loss: 0.4746 - accuracy: 0.7915\n",
      "Epoch 40/100\n",
      "191/191 [==============================] - 1s 3ms/step - loss: 0.4763 - accuracy: 0.7915\n",
      "Epoch 41/100\n",
      "191/191 [==============================] - 0s 1ms/step - loss: 0.4738 - accuracy: 0.7929\n",
      "Epoch 42/100\n",
      "191/191 [==============================] - 0s 2ms/step - loss: 0.4719 - accuracy: 0.7916\n",
      "Epoch 43/100\n",
      "191/191 [==============================] - 0s 2ms/step - loss: 0.4759 - accuracy: 0.7910\n",
      "Epoch 44/100\n",
      "191/191 [==============================] - 0s 2ms/step - loss: 0.4731 - accuracy: 0.7931\n",
      "Epoch 45/100\n",
      "191/191 [==============================] - 0s 2ms/step - loss: 0.4753 - accuracy: 0.7936\n",
      "Epoch 46/100\n",
      "191/191 [==============================] - 0s 2ms/step - loss: 0.4718 - accuracy: 0.7956\n",
      "Epoch 47/100\n",
      "191/191 [==============================] - 0s 2ms/step - loss: 0.4779 - accuracy: 0.7926\n",
      "Epoch 48/100\n",
      "191/191 [==============================] - 0s 3ms/step - loss: 0.4731 - accuracy: 0.7936\n",
      "Epoch 49/100\n",
      "191/191 [==============================] - 1s 3ms/step - loss: 0.4748 - accuracy: 0.7926\n",
      "Epoch 50/100\n",
      "191/191 [==============================] - 0s 2ms/step - loss: 0.4757 - accuracy: 0.7920\n",
      "Epoch 51/100\n",
      "191/191 [==============================] - 1s 3ms/step - loss: 0.4752 - accuracy: 0.7918\n",
      "Epoch 52/100\n",
      "191/191 [==============================] - 0s 2ms/step - loss: 0.4743 - accuracy: 0.7882\n",
      "Epoch 53/100\n",
      "191/191 [==============================] - 0s 2ms/step - loss: 0.4723 - accuracy: 0.7931\n",
      "Epoch 54/100\n",
      "191/191 [==============================] - 0s 2ms/step - loss: 0.4756 - accuracy: 0.7910\n",
      "Epoch 55/100\n",
      "191/191 [==============================] - 0s 2ms/step - loss: 0.4749 - accuracy: 0.7916\n",
      "Epoch 56/100\n",
      "191/191 [==============================] - 0s 2ms/step - loss: 0.4758 - accuracy: 0.7901\n",
      "Epoch 57/100\n",
      "191/191 [==============================] - 0s 2ms/step - loss: 0.4703 - accuracy: 0.7943\n",
      "Epoch 58/100\n",
      "191/191 [==============================] - 0s 2ms/step - loss: 0.4778 - accuracy: 0.7924\n",
      "Epoch 59/100\n",
      "191/191 [==============================] - 0s 2ms/step - loss: 0.4707 - accuracy: 0.7944\n",
      "Epoch 60/100\n",
      "191/191 [==============================] - 0s 2ms/step - loss: 0.4728 - accuracy: 0.7944\n",
      "Epoch 61/100\n",
      "191/191 [==============================] - 0s 2ms/step - loss: 0.4775 - accuracy: 0.7915\n",
      "Epoch 62/100\n",
      "191/191 [==============================] - 0s 2ms/step - loss: 0.4788 - accuracy: 0.7897\n",
      "Epoch 63/100\n",
      "191/191 [==============================] - 0s 2ms/step - loss: 0.4740 - accuracy: 0.7903\n",
      "Epoch 64/100\n",
      "191/191 [==============================] - 0s 2ms/step - loss: 0.4783 - accuracy: 0.7906\n",
      "Epoch 65/100\n",
      "191/191 [==============================] - 0s 2ms/step - loss: 0.4711 - accuracy: 0.7908\n",
      "Epoch 66/100\n",
      "191/191 [==============================] - 0s 2ms/step - loss: 0.4760 - accuracy: 0.7928\n",
      "Epoch 67/100\n",
      "191/191 [==============================] - 0s 3ms/step - loss: 0.4757 - accuracy: 0.7941\n",
      "Epoch 68/100\n",
      "191/191 [==============================] - 0s 2ms/step - loss: 0.4783 - accuracy: 0.7897\n",
      "Epoch 69/100\n",
      "191/191 [==============================] - 0s 2ms/step - loss: 0.4717 - accuracy: 0.7926\n",
      "Epoch 70/100\n",
      "191/191 [==============================] - 0s 2ms/step - loss: 0.4745 - accuracy: 0.7905\n",
      "Epoch 71/100\n",
      "191/191 [==============================] - 0s 2ms/step - loss: 0.4741 - accuracy: 0.7951: 0s - loss: 0.4755 - accu\n",
      "Epoch 72/100\n",
      "191/191 [==============================] - 0s 2ms/step - loss: 0.4780 - accuracy: 0.7898\n",
      "Epoch 73/100\n",
      "191/191 [==============================] - 0s 2ms/step - loss: 0.4755 - accuracy: 0.7910\n",
      "Epoch 74/100\n",
      "191/191 [==============================] - 0s 2ms/step - loss: 0.4803 - accuracy: 0.7893\n",
      "Epoch 75/100\n",
      "191/191 [==============================] - 0s 2ms/step - loss: 0.4789 - accuracy: 0.7920\n",
      "Epoch 76/100\n",
      "191/191 [==============================] - 1s 4ms/step - loss: 0.4771 - accuracy: 0.7893\n",
      "Epoch 77/100\n",
      "191/191 [==============================] - 0s 2ms/step - loss: 0.4776 - accuracy: 0.7921\n",
      "Epoch 78/100\n",
      "191/191 [==============================] - 0s 2ms/step - loss: 0.4774 - accuracy: 0.7928\n",
      "Epoch 79/100\n",
      "191/191 [==============================] - 0s 2ms/step - loss: 0.4851 - accuracy: 0.7908\n",
      "Epoch 80/100\n",
      "191/191 [==============================] - 0s 2ms/step - loss: 0.4760 - accuracy: 0.7931\n",
      "Epoch 81/100\n"
     ]
    },
    {
     "name": "stdout",
     "output_type": "stream",
     "text": [
      "191/191 [==============================] - 0s 2ms/step - loss: 0.4727 - accuracy: 0.7936\n",
      "Epoch 82/100\n",
      "191/191 [==============================] - 0s 977us/step - loss: 0.4744 - accuracy: 0.7920\n",
      "Epoch 83/100\n",
      "191/191 [==============================] - 0s 2ms/step - loss: 0.4801 - accuracy: 0.7910\n",
      "Epoch 84/100\n",
      "191/191 [==============================] - 0s 2ms/step - loss: 0.4819 - accuracy: 0.7901\n",
      "Epoch 85/100\n",
      "191/191 [==============================] - 0s 1ms/step - loss: 0.4758 - accuracy: 0.7923\n",
      "Epoch 86/100\n",
      "191/191 [==============================] - 0s 2ms/step - loss: 0.4767 - accuracy: 0.7883\n",
      "Epoch 87/100\n",
      "191/191 [==============================] - 0s 2ms/step - loss: 0.4710 - accuracy: 0.7931\n",
      "Epoch 88/100\n",
      "191/191 [==============================] - 0s 2ms/step - loss: 0.4809 - accuracy: 0.7872\n",
      "Epoch 89/100\n",
      "191/191 [==============================] - 0s 2ms/step - loss: 0.4746 - accuracy: 0.7921\n",
      "Epoch 90/100\n",
      "191/191 [==============================] - 0s 1ms/step - loss: 0.4786 - accuracy: 0.7905\n",
      "Epoch 91/100\n",
      "191/191 [==============================] - 0s 1ms/step - loss: 0.4754 - accuracy: 0.7901\n",
      "Epoch 92/100\n",
      "191/191 [==============================] - 0s 2ms/step - loss: 0.4765 - accuracy: 0.7913\n",
      "Epoch 93/100\n",
      "191/191 [==============================] - 0s 1ms/step - loss: 0.4793 - accuracy: 0.7923\n",
      "Epoch 94/100\n",
      "191/191 [==============================] - 0s 2ms/step - loss: 0.4812 - accuracy: 0.7905\n",
      "Epoch 95/100\n",
      "191/191 [==============================] - 0s 2ms/step - loss: 0.4831 - accuracy: 0.7895\n",
      "Epoch 96/100\n",
      "191/191 [==============================] - 1s 4ms/step - loss: 0.4745 - accuracy: 0.7913\n",
      "Epoch 97/100\n",
      "191/191 [==============================] - 0s 1ms/step - loss: 0.4804 - accuracy: 0.7906\n",
      "Epoch 98/100\n",
      "191/191 [==============================] - 0s 2ms/step - loss: 0.4794 - accuracy: 0.7906\n",
      "Epoch 99/100\n",
      "191/191 [==============================] - 0s 1ms/step - loss: 0.4754 - accuracy: 0.7918\n",
      "Epoch 100/100\n",
      "191/191 [==============================] - 0s 1ms/step - loss: 0.4781 - accuracy: 0.7929\n"
     ]
    },
    {
     "data": {
      "text/plain": [
       "<tensorflow.python.keras.callbacks.History at 0x7fa9ec406640>"
      ]
     },
     "execution_count": 34,
     "metadata": {},
     "output_type": "execute_result"
    }
   ],
   "source": [
    "model.fit(input_, y_train, epochs=100)"
   ]
  },
  {
   "cell_type": "markdown",
   "metadata": {},
   "source": [
    "## 3.3 GloVe + RNN\n",
    "\n",
    "Many-to-one RNN with GloVe word embeddings.The model architecture is as follows:\n",
    "\n",
    "- Input layer\n",
    "- Embedding layer\n",
    "- GRU layer\n",
    "- Dense layer: with Sigmoid activation."
   ]
  },
  {
   "cell_type": "code",
   "execution_count": 21,
   "metadata": {},
   "outputs": [],
   "source": [
    "from tensorflow.keras.preprocessing.text import Tokenizer\n",
    "from tensorflow.keras.preprocessing.sequence import pad_sequences"
   ]
  },
  {
   "cell_type": "code",
   "execution_count": 37,
   "metadata": {},
   "outputs": [],
   "source": [
    "# Build the Embedding Matrix\n",
    "glove_path = '/home/vagrant/_shared/Models/glove.twitter.27B/glove.twitter.27B.50d.txt'\n",
    "\n",
    "\n",
    "def get_embedding_matrix(tokenizer, dim=50):\n",
    "    embedding_index = {}\n",
    "    with open(glove_path, 'r') as f_in:\n",
    "        for line in f_in.readlines():\n",
    "            values = line.split()\n",
    "            word = values[0]\n",
    "            vector = np.asarray(values[1:], dtype='float32')\n",
    "            embedding_index[word] = vector\n",
    "            \n",
    "    word_index = tokenizer.word_index\n",
    "    embedding_matrix = np.zeros((len(word_index) + 1, dim))\n",
    "    for word,i in word_index.items():\n",
    "        embedding_vector = embedding_index.get(word)\n",
    "        if embedding_vector is not None:\n",
    "            embedding_matrix[i] = embedding_vector\n",
    "    \n",
    "    return embedding_matrix"
   ]
  },
  {
   "cell_type": "code",
   "execution_count": 38,
   "metadata": {},
   "outputs": [],
   "source": [
    "tokenizer = Tokenizer()\n",
    "tokenizer.fit_on_texts(X)\n",
    "embedding_matrix = get_embedding_matrix(tokenizer)\n",
    "X_padded = tokenizer.texts_to_sequences(X)\n",
    "X_padded = pad_sequences(X_padded, maxlen=100)\n",
    "\n",
    "# Train & Dev dataset splitting\n",
    "X_train, X_dev, y_train, y_dev = train_test_split(X_padded, y, test_size=0.2, random_state=1)"
   ]
  },
  {
   "cell_type": "code",
   "execution_count": 44,
   "metadata": {},
   "outputs": [],
   "source": [
    "embedding_matrix = get_embedding_matrix(tokenizer)"
   ]
  },
  {
   "cell_type": "code",
   "execution_count": 73,
   "metadata": {},
   "outputs": [
    {
     "name": "stdout",
     "output_type": "stream",
     "text": [
      "Model: \"sequential_9\"\n",
      "_________________________________________________________________\n",
      "Layer (type)                 Output Shape              Param #   \n",
      "=================================================================\n",
      "embedding_3 (Embedding)      (None, 100, 50)           1135050   \n",
      "_________________________________________________________________\n",
      "layer1 (LSTM)                (None, 100)               60400     \n",
      "_________________________________________________________________\n",
      "layer3 (Dense)               (None, 1)                 101       \n",
      "=================================================================\n",
      "Total params: 1,195,551\n",
      "Trainable params: 60,501\n",
      "Non-trainable params: 1,135,050\n",
      "_________________________________________________________________\n"
     ]
    }
   ],
   "source": [
    "def build_model(embedding_matrix):\n",
    "    model = keras.Sequential(\n",
    "        [\n",
    "            tfl.Embedding(len(tokenizer.word_index) + 1, 50, weights=[embedding_matrix], trainable=False, input_length=100),\n",
    "            tfl.LSTM(units=100, recurrent_dropout=0.1, name='layer1'),\n",
    "            tfl.Dense(units=1, activation='sigmoid', name='layer3'),\n",
    "        ]\n",
    "    )\n",
    "\n",
    "    model.compile(\n",
    "        optimizer=keras.optimizers.RMSprop(learning_rate=0.01),\n",
    "        loss='binary_crossentropy',\n",
    "        metrics=['accuracy'],\n",
    "    )\n",
    "\n",
    "    model.summary()\n",
    "    \n",
    "    \n",
    "    return model\n",
    "\n",
    "model = build_model(embedding_matrix)"
   ]
  },
  {
   "cell_type": "code",
   "execution_count": 74,
   "metadata": {},
   "outputs": [
    {
     "name": "stdout",
     "output_type": "stream",
     "text": [
      "Epoch 1/100\n",
      "191/191 [==============================] - 31s 161ms/step - loss: 0.5265 - accuracy: 0.7580\n",
      "Epoch 2/100\n",
      "191/191 [==============================] - 33s 171ms/step - loss: 0.4312 - accuracy: 0.8084\n",
      "Epoch 3/100\n",
      "191/191 [==============================] - 26s 135ms/step - loss: 0.3914 - accuracy: 0.8307\n",
      "Epoch 4/100\n",
      "191/191 [==============================] - 28s 147ms/step - loss: 0.3442 - accuracy: 0.8521\n",
      "Epoch 5/100\n",
      "191/191 [==============================] - 28s 145ms/step - loss: 0.2872 - accuracy: 0.8798\n",
      "Epoch 6/100\n",
      "191/191 [==============================] - 27s 141ms/step - loss: 0.2368 - accuracy: 0.9030\n",
      "Epoch 7/100\n",
      "191/191 [==============================] - 31s 163ms/step - loss: 0.1919 - accuracy: 0.9245\n",
      "Epoch 8/100\n",
      "191/191 [==============================] - 37s 192ms/step - loss: 0.1609 - accuracy: 0.9371\n",
      "Epoch 9/100\n",
      "191/191 [==============================] - 26s 138ms/step - loss: 0.1443 - accuracy: 0.9470\n",
      "Epoch 10/100\n",
      "191/191 [==============================] - 29s 153ms/step - loss: 0.1288 - accuracy: 0.9488\n",
      "Epoch 11/100\n",
      "191/191 [==============================] - 30s 159ms/step - loss: 0.1138 - accuracy: 0.9591\n",
      "Epoch 12/100\n",
      "191/191 [==============================] - 26s 135ms/step - loss: 0.1076 - accuracy: 0.9604\n",
      "Epoch 13/100\n",
      "191/191 [==============================] - 33s 174ms/step - loss: 0.0980 - accuracy: 0.9632\n",
      "Epoch 14/100\n",
      "191/191 [==============================] - 39s 203ms/step - loss: 0.0973 - accuracy: 0.9655\n",
      "Epoch 15/100\n",
      "191/191 [==============================] - 27s 143ms/step - loss: 0.0861 - accuracy: 0.9691\n",
      "Epoch 16/100\n",
      "191/191 [==============================] - 36s 187ms/step - loss: 0.0911 - accuracy: 0.9667\n",
      "Epoch 17/100\n",
      "191/191 [==============================] - 31s 161ms/step - loss: 0.0843 - accuracy: 0.9658\n",
      "Epoch 18/100\n",
      "191/191 [==============================] - 33s 174ms/step - loss: 0.0826 - accuracy: 0.9701\n",
      "Epoch 19/100\n",
      "191/191 [==============================] - 35s 181ms/step - loss: 0.0791 - accuracy: 0.9719\n",
      "Epoch 20/100\n",
      "191/191 [==============================] - 26s 138ms/step - loss: 0.0821 - accuracy: 0.9709\n",
      "Epoch 21/100\n",
      "191/191 [==============================] - 28s 148ms/step - loss: 0.0786 - accuracy: 0.9708\n",
      "Epoch 22/100\n",
      "191/191 [==============================] - 25s 133ms/step - loss: 0.0814 - accuracy: 0.9698\n",
      "Epoch 23/100\n",
      "191/191 [==============================] - 25s 133ms/step - loss: 0.0723 - accuracy: 0.9718\n",
      "Epoch 24/100\n",
      "191/191 [==============================] - 24s 125ms/step - loss: 0.0723 - accuracy: 0.9696\n",
      "Epoch 25/100\n",
      "191/191 [==============================] - 31s 164ms/step - loss: 0.0767 - accuracy: 0.9703\n",
      "Epoch 26/100\n",
      "191/191 [==============================] - 34s 176ms/step - loss: 0.0752 - accuracy: 0.9734\n",
      "Epoch 27/100\n",
      "191/191 [==============================] - 26s 135ms/step - loss: 0.0784 - accuracy: 0.9696\n",
      "Epoch 28/100\n",
      "191/191 [==============================] - 36s 188ms/step - loss: 0.0713 - accuracy: 0.9741\n",
      "Epoch 29/100\n",
      "191/191 [==============================] - 30s 156ms/step - loss: 0.0686 - accuracy: 0.9742\n",
      "Epoch 30/100\n",
      "191/191 [==============================] - 26s 135ms/step - loss: 0.0714 - accuracy: 0.9721\n",
      "Epoch 31/100\n",
      "191/191 [==============================] - 31s 160ms/step - loss: 0.0701 - accuracy: 0.9722\n",
      "Epoch 32/100\n",
      "191/191 [==============================] - 32s 166ms/step - loss: 0.0770 - accuracy: 0.9691\n",
      "Epoch 33/100\n",
      "191/191 [==============================] - 28s 145ms/step - loss: 0.0733 - accuracy: 0.9737\n",
      "Epoch 34/100\n",
      "191/191 [==============================] - 33s 170ms/step - loss: 0.0684 - accuracy: 0.9726\n",
      "Epoch 35/100\n",
      "191/191 [==============================] - 26s 137ms/step - loss: 0.0683 - accuracy: 0.9731\n",
      "Epoch 36/100\n",
      "191/191 [==============================] - 27s 142ms/step - loss: 0.0693 - accuracy: 0.9732\n",
      "Epoch 37/100\n",
      "191/191 [==============================] - 37s 193ms/step - loss: 0.0731 - accuracy: 0.9737\n",
      "Epoch 38/100\n",
      "191/191 [==============================] - 28s 145ms/step - loss: 0.0760 - accuracy: 0.9713\n",
      "Epoch 39/100\n",
      "191/191 [==============================] - 32s 167ms/step - loss: 0.0679 - accuracy: 0.9739\n",
      "Epoch 40/100\n",
      "191/191 [==============================] - 31s 161ms/step - loss: 0.0771 - accuracy: 0.9709\n",
      "Epoch 41/100\n",
      "191/191 [==============================] - 28s 146ms/step - loss: 0.0725 - accuracy: 0.9713\n",
      "Epoch 42/100\n",
      "191/191 [==============================] - 36s 190ms/step - loss: 0.0704 - accuracy: 0.9741\n",
      "Epoch 43/100\n",
      "191/191 [==============================] - 32s 166ms/step - loss: 0.0697 - accuracy: 0.9739\n",
      "Epoch 44/100\n",
      "191/191 [==============================] - 24s 127ms/step - loss: 0.0715 - accuracy: 0.9716\n",
      "Epoch 45/100\n",
      "191/191 [==============================] - 31s 163ms/step - loss: 0.0644 - accuracy: 0.9749\n",
      "Epoch 46/100\n",
      "191/191 [==============================] - 33s 174ms/step - loss: 0.0746 - accuracy: 0.9708\n",
      "Epoch 47/100\n",
      "191/191 [==============================] - 24s 128ms/step - loss: 0.0686 - accuracy: 0.9716\n",
      "Epoch 48/100\n",
      "191/191 [==============================] - 37s 194ms/step - loss: 0.0655 - accuracy: 0.9749\n",
      "Epoch 49/100\n",
      "191/191 [==============================] - 29s 154ms/step - loss: 0.0676 - accuracy: 0.9742\n",
      "Epoch 50/100\n",
      "191/191 [==============================] - 33s 172ms/step - loss: 0.0678 - accuracy: 0.9729\n",
      "Epoch 51/100\n",
      "191/191 [==============================] - 31s 164ms/step - loss: 0.0655 - accuracy: 0.9745\n",
      "Epoch 52/100\n",
      "191/191 [==============================] - 25s 132ms/step - loss: 0.0737 - accuracy: 0.9714\n",
      "Epoch 53/100\n",
      "191/191 [==============================] - 27s 144ms/step - loss: 0.0729 - accuracy: 0.9752\n",
      "Epoch 54/100\n",
      "191/191 [==============================] - 29s 152ms/step - loss: 0.0695 - accuracy: 0.9727\n",
      "Epoch 55/100\n",
      "191/191 [==============================] - 24s 128ms/step - loss: 0.0780 - accuracy: 0.9709\n",
      "Epoch 56/100\n",
      "191/191 [==============================] - 24s 125ms/step - loss: 0.0747 - accuracy: 0.9701\n",
      "Epoch 57/100\n",
      "191/191 [==============================] - 32s 166ms/step - loss: 0.0720 - accuracy: 0.9722\n",
      "Epoch 58/100\n",
      "191/191 [==============================] - 28s 149ms/step - loss: 0.0742 - accuracy: 0.9724\n",
      "Epoch 59/100\n",
      "191/191 [==============================] - 30s 156ms/step - loss: 0.0715 - accuracy: 0.9724\n",
      "Epoch 60/100\n",
      "191/191 [==============================] - 39s 203ms/step - loss: 0.0765 - accuracy: 0.9726\n",
      "Epoch 61/100\n",
      "191/191 [==============================] - 28s 146ms/step - loss: 0.0746 - accuracy: 0.9721\n",
      "Epoch 62/100\n",
      "191/191 [==============================] - 35s 185ms/step - loss: 0.0722 - accuracy: 0.9722\n",
      "Epoch 63/100\n",
      "191/191 [==============================] - 30s 159ms/step - loss: 0.0719 - accuracy: 0.9742\n",
      "Epoch 64/100\n",
      "191/191 [==============================] - 29s 153ms/step - loss: 0.0694 - accuracy: 0.9736\n",
      "Epoch 65/100\n",
      "191/191 [==============================] - 35s 181ms/step - loss: 0.0715 - accuracy: 0.9714\n",
      "Epoch 66/100\n",
      "191/191 [==============================] - 27s 143ms/step - loss: 0.0718 - accuracy: 0.9713\n",
      "Epoch 67/100\n",
      "191/191 [==============================] - 28s 145ms/step - loss: 0.0710 - accuracy: 0.9739\n",
      "Epoch 68/100\n",
      "191/191 [==============================] - 31s 165ms/step - loss: 0.0703 - accuracy: 0.9709\n",
      "Epoch 69/100\n",
      "191/191 [==============================] - 29s 153ms/step - loss: 0.0639 - accuracy: 0.9745\n",
      "Epoch 70/100\n",
      "191/191 [==============================] - 30s 157ms/step - loss: 0.0695 - accuracy: 0.9721\n",
      "Epoch 71/100\n",
      "191/191 [==============================] - 33s 170ms/step - loss: 0.0738 - accuracy: 0.9727\n",
      "Epoch 72/100\n",
      "191/191 [==============================] - 29s 151ms/step - loss: 0.0740 - accuracy: 0.9700\n",
      "Epoch 73/100\n",
      "191/191 [==============================] - 34s 180ms/step - loss: 0.0772 - accuracy: 0.9716\n",
      "Epoch 74/100\n",
      "191/191 [==============================] - 35s 184ms/step - loss: 0.0720 - accuracy: 0.9736\n",
      "Epoch 75/100\n",
      "191/191 [==============================] - 26s 137ms/step - loss: 0.0711 - accuracy: 0.9739\n",
      "Epoch 76/100\n",
      "191/191 [==============================] - 35s 182ms/step - loss: 0.0692 - accuracy: 0.9737\n",
      "Epoch 77/100\n",
      "191/191 [==============================] - 31s 162ms/step - loss: 0.0697 - accuracy: 0.9760\n",
      "Epoch 78/100\n",
      "191/191 [==============================] - 27s 144ms/step - loss: 0.0722 - accuracy: 0.9732\n",
      "Epoch 79/100\n"
     ]
    },
    {
     "name": "stdout",
     "output_type": "stream",
     "text": [
      "191/191 [==============================] - 30s 159ms/step - loss: 0.0653 - accuracy: 0.9741\n",
      "Epoch 80/100\n",
      "191/191 [==============================] - 27s 143ms/step - loss: 0.0715 - accuracy: 0.9711\n",
      "Epoch 81/100\n",
      "191/191 [==============================] - 24s 128ms/step - loss: 0.0744 - accuracy: 0.9729\n",
      "Epoch 82/100\n",
      "191/191 [==============================] - 30s 157ms/step - loss: 0.0745 - accuracy: 0.9719\n",
      "Epoch 83/100\n",
      "191/191 [==============================] - 30s 157ms/step - loss: 0.0761 - accuracy: 0.9716\n",
      "Epoch 84/100\n",
      "191/191 [==============================] - 25s 131ms/step - loss: 0.0756 - accuracy: 0.9703\n",
      "Epoch 85/100\n",
      "191/191 [==============================] - 26s 139ms/step - loss: 0.0748 - accuracy: 0.9711\n",
      "Epoch 86/100\n",
      "191/191 [==============================] - 25s 130ms/step - loss: 0.0731 - accuracy: 0.9732\n",
      "Epoch 87/100\n",
      "191/191 [==============================] - 26s 136ms/step - loss: 0.0666 - accuracy: 0.9736\n",
      "Epoch 88/100\n",
      "191/191 [==============================] - 26s 134ms/step - loss: 0.0741 - accuracy: 0.9729\n",
      "Epoch 89/100\n",
      "191/191 [==============================] - 33s 174ms/step - loss: 0.0633 - accuracy: 0.9745\n",
      "Epoch 90/100\n",
      "191/191 [==============================] - 29s 151ms/step - loss: 0.0682 - accuracy: 0.9719\n",
      "Epoch 91/100\n",
      "191/191 [==============================] - 29s 152ms/step - loss: 0.0698 - accuracy: 0.9736\n",
      "Epoch 92/100\n",
      "191/191 [==============================] - 35s 184ms/step - loss: 0.0671 - accuracy: 0.9729\n",
      "Epoch 93/100\n",
      "191/191 [==============================] - 30s 156ms/step - loss: 0.0724 - accuracy: 0.9716\n",
      "Epoch 94/100\n",
      "191/191 [==============================] - 27s 142ms/step - loss: 0.0605 - accuracy: 0.9773\n",
      "Epoch 95/100\n",
      "191/191 [==============================] - 30s 159ms/step - loss: 0.0676 - accuracy: 0.9721\n",
      "Epoch 96/100\n",
      "191/191 [==============================] - 30s 157ms/step - loss: 0.0691 - accuracy: 0.9754\n",
      "Epoch 97/100\n",
      "191/191 [==============================] - 29s 154ms/step - loss: 0.0614 - accuracy: 0.9770\n",
      "Epoch 98/100\n",
      "191/191 [==============================] - 38s 198ms/step - loss: 0.0637 - accuracy: 0.9752\n",
      "Epoch 99/100\n",
      "191/191 [==============================] - 23s 121ms/step - loss: 0.0672 - accuracy: 0.9734\n",
      "Epoch 100/100\n",
      "191/191 [==============================] - 36s 189ms/step - loss: 0.0621 - accuracy: 0.9759\n"
     ]
    }
   ],
   "source": [
    "history = model.fit(X_train, np.asarray(y_train), epochs=100)"
   ]
  },
  {
   "cell_type": "code",
   "execution_count": 75,
   "metadata": {},
   "outputs": [
    {
     "data": {
      "image/png": "[encoded data removed]",
      "text/plain": [
       "<Figure size 432x288 with 1 Axes>"
      ]
     },
     "metadata": {
      "needs_background": "light"
     },
     "output_type": "display_data"
    }
   ],
   "source": [
    "loss_values = history.history['loss']\n",
    "epochs = range(1, len(loss_values) + 1)\n",
    "\n",
    "plt.plot(epochs, loss_values, label='Training Loss')\n",
    "plt.xlabel('Epochs')\n",
    "plt.ylabel('Loss')\n",
    "plt.legend()\n",
    "\n",
    "plt.show()"
   ]
  },
  {
   "cell_type": "code",
   "execution_count": 51,
   "metadata": {},
   "outputs": [
    {
     "data": {
      "image/png": "[encoded data removed]",
      "text/plain": [
       "<Figure size 432x288 with 1 Axes>"
      ]
     },
     "metadata": {
      "needs_background": "light"
     },
     "output_type": "display_data"
    }
   ],
   "source": [
    "loss_values = history.history['loss']\n",
    "epochs = range(1, len(loss_values) + 1)\n",
    "\n",
    "plt.plot(epochs, loss_values, label='Training Loss')\n",
    "plt.xlabel('Epochs')\n",
    "plt.ylabel('Loss')\n",
    "plt.legend()\n",
    "\n",
    "plt.show()"
   ]
  },
  {
   "cell_type": "code",
   "execution_count": 76,
   "metadata": {},
   "outputs": [
    {
     "data": {
      "image/png": "[encoded data removed]",
      "text/plain": [
       "<Figure size 432x288 with 1 Axes>"
      ]
     },
     "metadata": {
      "needs_background": "light"
     },
     "output_type": "display_data"
    }
   ],
   "source": [
    "accuracy = history.history['accuracy']\n",
    "epochs = range(1, len(accuracy) + 1)\n",
    "\n",
    "plt.plot(epochs, accuracy, label='Training Accuracy')\n",
    "plt.xlabel('Epochs')\n",
    "plt.ylabel('Accuracy')\n",
    "plt.legend()\n",
    "\n",
    "plt.show()"
   ]
  },
  {
   "cell_type": "code",
   "execution_count": 54,
   "metadata": {},
   "outputs": [
    {
     "data": {
      "image/png": "[encoded data removed]",
      "text/plain": [
       "<Figure size 432x288 with 1 Axes>"
      ]
     },
     "metadata": {
      "needs_background": "light"
     },
     "output_type": "display_data"
    }
   ],
   "source": [
    "accuracy = history.history['accuracy']\n",
    "epochs = range(1, len(accuracy) + 1)\n",
    "\n",
    "plt.plot(epochs, accuracy, label='Training Accuracy')\n",
    "plt.xlabel('Epochs')\n",
    "plt.ylabel('Accuracy')\n",
    "plt.legend()\n",
    "\n",
    "plt.show()"
   ]
  },
  {
   "cell_type": "markdown",
   "metadata": {},
   "source": [
    "# 4. Predict Test Set"
   ]
  },
  {
   "cell_type": "code",
   "execution_count": 55,
   "metadata": {},
   "outputs": [],
   "source": [
    "test_df = pd.read_csv(TEST_PATH)"
   ]
  },
  {
   "cell_type": "code",
   "execution_count": 56,
   "metadata": {},
   "outputs": [
    {
     "data": {
      "text/plain": [
       "(3263, 4)"
      ]
     },
     "execution_count": 56,
     "metadata": {},
     "output_type": "execute_result"
    }
   ],
   "source": [
    "test_df.shape"
   ]
  },
  {
   "cell_type": "code",
   "execution_count": 57,
   "metadata": {},
   "outputs": [
    {
     "data": {
      "text/html": [
       "<div>\n",
       "<style scoped>\n",
       "    .dataframe tbody tr th:only-of-type {\n",
       "        vertical-align: middle;\n",
       "    }\n",
       "\n",
       "    .dataframe tbody tr th {\n",
       "        vertical-align: top;\n",
       "    }\n",
       "\n",
       "    .dataframe thead th {\n",
       "        text-align: right;\n",
       "    }\n",
       "</style>\n",
       "<table border=\"1\" class=\"dataframe\">\n",
       "  <thead>\n",
       "    <tr style=\"text-align: right;\">\n",
       "      <th></th>\n",
       "      <th>id</th>\n",
       "      <th>keyword</th>\n",
       "      <th>location</th>\n",
       "      <th>text</th>\n",
       "    </tr>\n",
       "  </thead>\n",
       "  <tbody>\n",
       "    <tr>\n",
       "      <th>0</th>\n",
       "      <td>0</td>\n",
       "      <td>NaN</td>\n",
       "      <td>NaN</td>\n",
       "      <td>Just happened a terrible car crash</td>\n",
       "    </tr>\n",
       "    <tr>\n",
       "      <th>1</th>\n",
       "      <td>2</td>\n",
       "      <td>NaN</td>\n",
       "      <td>NaN</td>\n",
       "      <td>Heard about #earthquake is different cities, s...</td>\n",
       "    </tr>\n",
       "    <tr>\n",
       "      <th>2</th>\n",
       "      <td>3</td>\n",
       "      <td>NaN</td>\n",
       "      <td>NaN</td>\n",
       "      <td>there is a forest fire at spot pond, geese are...</td>\n",
       "    </tr>\n",
       "    <tr>\n",
       "      <th>3</th>\n",
       "      <td>9</td>\n",
       "      <td>NaN</td>\n",
       "      <td>NaN</td>\n",
       "      <td>Apocalypse lighting. #Spokane #wildfires</td>\n",
       "    </tr>\n",
       "    <tr>\n",
       "      <th>4</th>\n",
       "      <td>11</td>\n",
       "      <td>NaN</td>\n",
       "      <td>NaN</td>\n",
       "      <td>Typhoon Soudelor kills 28 in China and Taiwan</td>\n",
       "    </tr>\n",
       "  </tbody>\n",
       "</table>\n",
       "</div>"
      ],
      "text/plain": [
       "   id keyword location                                               text\n",
       "0   0     NaN      NaN                 Just happened a terrible car crash\n",
       "1   2     NaN      NaN  Heard about #earthquake is different cities, s...\n",
       "2   3     NaN      NaN  there is a forest fire at spot pond, geese are...\n",
       "3   9     NaN      NaN           Apocalypse lighting. #Spokane #wildfires\n",
       "4  11     NaN      NaN      Typhoon Soudelor kills 28 in China and Taiwan"
      ]
     },
     "execution_count": 57,
     "metadata": {},
     "output_type": "execute_result"
    }
   ],
   "source": [
    "test_df.head()"
   ]
  },
  {
   "cell_type": "code",
   "execution_count": 58,
   "metadata": {},
   "outputs": [],
   "source": [
    "ids = test_df['id'].tolist()\n",
    "text = test_df['text'].tolist()\n",
    "test_data = tokenizer.texts_to_sequences(text)\n",
    "test_data = pad_sequences(test_data, maxlen=100)"
   ]
  },
  {
   "cell_type": "code",
   "execution_count": 77,
   "metadata": {},
   "outputs": [],
   "source": [
    "predictions = model.predict(test_data)\n",
    "target_pred = (predictions >= 0.5).astype(int).flatten().tolist()\n",
    "pred_df = pd.DataFrame(columns=['id', 'target'], data=np.transpose(np.asarray([ids, target_pred])))"
   ]
  },
  {
   "cell_type": "code",
   "execution_count": 78,
   "metadata": {},
   "outputs": [],
   "source": [
    "pred_df.to_csv('./predictions_v2.csv', index=False)"
   ]
  },
  {
   "cell_type": "code",
   "execution_count": 79,
   "metadata": {},
   "outputs": [
    {
     "data": {
      "text/plain": [
       "(3263, 2)"
      ]
     },
     "execution_count": 79,
     "metadata": {},
     "output_type": "execute_result"
    }
   ],
   "source": [
    "pred_df.shape"
   ]
  },
  {
   "cell_type": "code",
   "execution_count": 81,
   "metadata": {},
   "outputs": [
    {
     "data": {
      "text/html": [
       "<div>\n",
       "<style scoped>\n",
       "    .dataframe tbody tr th:only-of-type {\n",
       "        vertical-align: middle;\n",
       "    }\n",
       "\n",
       "    .dataframe tbody tr th {\n",
       "        vertical-align: top;\n",
       "    }\n",
       "\n",
       "    .dataframe thead th {\n",
       "        text-align: right;\n",
       "    }\n",
       "</style>\n",
       "<table border=\"1\" class=\"dataframe\">\n",
       "  <thead>\n",
       "    <tr style=\"text-align: right;\">\n",
       "      <th></th>\n",
       "      <th>id</th>\n",
       "      <th>target</th>\n",
       "    </tr>\n",
       "  </thead>\n",
       "  <tbody>\n",
       "    <tr>\n",
       "      <th>0</th>\n",
       "      <td>0</td>\n",
       "      <td>0</td>\n",
       "    </tr>\n",
       "    <tr>\n",
       "      <th>1</th>\n",
       "      <td>2</td>\n",
       "      <td>1</td>\n",
       "    </tr>\n",
       "    <tr>\n",
       "      <th>2</th>\n",
       "      <td>3</td>\n",
       "      <td>1</td>\n",
       "    </tr>\n",
       "    <tr>\n",
       "      <th>3</th>\n",
       "      <td>9</td>\n",
       "      <td>1</td>\n",
       "    </tr>\n",
       "    <tr>\n",
       "      <th>4</th>\n",
       "      <td>11</td>\n",
       "      <td>1</td>\n",
       "    </tr>\n",
       "  </tbody>\n",
       "</table>\n",
       "</div>"
      ],
      "text/plain": [
       "   id  target\n",
       "0   0       0\n",
       "1   2       1\n",
       "2   3       1\n",
       "3   9       1\n",
       "4  11       1"
      ]
     },
     "execution_count": 81,
     "metadata": {},
     "output_type": "execute_result"
    }
   ],
   "source": [
    "pred_df.head()"
   ]
  },
  {
   "cell_type": "code",
   "execution_count": 72,
   "metadata": {},
   "outputs": [],
   "source": []
  },
  {
   "cell_type": "markdown",
   "metadata": {},
   "source": [
    "# 5. Future Work [Done]\n",
    "\n",
    "Current approaches achieve approximately an accuracy score of 0.8. Try to improve this to at least 0.9."
   ]
  },
  {
   "cell_type": "code",
   "execution_count": null,
   "metadata": {},
   "outputs": [],
   "source": []
  }
 ],
 "metadata": {
  "kernelspec": {
   "display_name": "Python 3",
   "language": "python",
   "name": "python3"
  },
  "language_info": {
   "codemirror_mode": {
    "name": "ipython",
    "version": 3
   },
   "file_extension": ".py",
   "mimetype": "text/x-python",
   "name": "python",
   "nbconvert_exporter": "python",
   "pygments_lexer": "ipython3",
   "version": "3.8.5"
  }
 },
 "nbformat": 4,
 "nbformat_minor": 4
}
