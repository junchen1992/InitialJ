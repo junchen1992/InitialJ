{
 "cells": [
  {
   "cell_type": "markdown",
   "metadata": {},
   "source": [
    "## 1. Introduction\n",
    "\n",
    "Here describes a demo-level implementation of CNN based on the following architecture:\n",
    "\n",
    "$[(CONV-RELU)*N-POOL?]*M-(FC-RELU)*K,SOFTMAX$\n",
    "\n",
    "Specifically, for simplicity, \n",
    "\n",
    "* $N = 1$\n",
    "* $M = 1$\n",
    "* $K = 1$\n",
    "\n",
    "The implemented architecture is as follows:\n",
    "\n",
    "$(CONV-RELU)-POOL-(FC-RELU),SOFTMAX$"
   ]
  },
  {
   "cell_type": "markdown",
   "metadata": {},
   "source": [
    "## 2. Forward Pass"
   ]
  },
  {
   "cell_type": "markdown",
   "metadata": {},
   "source": [
    "### Prepare Datasets"
   ]
  },
  {
   "cell_type": "code",
   "execution_count": 1,
   "metadata": {},
   "outputs": [],
   "source": [
    "import mnist"
   ]
  },
  {
   "cell_type": "code",
   "execution_count": 6,
   "metadata": {},
   "outputs": [
    {
     "name": "stdout",
     "output_type": "stream",
     "text": [
      "train_images.shape: (60000, 28, 28), train_labels.shape: (60000,)\n",
      "test_images.shape: (10000, 28, 28), test_labels.shape: (10000,)\n"
     ]
    }
   ],
   "source": [
    "# The mnist package handles the MNIST dataset for us!\n",
    "# Learn more at https://github.com/datapythonista/mnist\n",
    "\n",
    "train_images = mnist.train_images()\n",
    "train_labels = mnist.train_labels()\n",
    "\n",
    "test_images = mnist.test_images()\n",
    "test_labels = mnist.test_labels()\n",
    "\n",
    "print(f'train_images.shape: {train_images.shape}, train_labels.shape: {train_labels.shape}')\n",
    "print(f'test_images.shape: {test_images.shape}, test_labels.shape: {test_labels.shape}')"
   ]
  },
  {
   "cell_type": "markdown",
   "metadata": {},
   "source": [
    "### Convolution Layer"
   ]
  },
  {
   "cell_type": "code",
   "execution_count": 14,
   "metadata": {},
   "outputs": [],
   "source": [
    "from typing import Callable\n",
    "\n",
    "import numpy as np"
   ]
  },
  {
   "cell_type": "code",
   "execution_count": 17,
   "metadata": {},
   "outputs": [],
   "source": [
    "class Conv:\n",
    "    \"\"\"Conv Layer\n",
    "    \n",
    "    In order to focus on the soul of CNN, code has been kept simple. It may not have a good design and \n",
    "    efficiency, but it works to demonstrate the workflow of implementing a CNN manually.\n",
    "    \"\"\"\n",
    "    \n",
    "    def __init__(self, input_: np.ndarray, stride: int, padding_size: int, activator: Callable, filter_size, \n",
    "                 num_filters=1):\n",
    "        \"\"\"Intialization of the Conv layer\"\"\"\n",
    "        self.input_ = input_\n",
    "        self.stride = stride\n",
    "        self.padding_size = padding_size\n",
    "        self.activator = activator\n",
    "        self.filter_size = filter_size\n",
    "        self.num_filters = num_filters\n",
    "        \n",
    "    def add_padding(self, x: np.ndarray) -> np.ndarray:\n",
    "        \"\"\"Add padding zeros to input array based on padding_size\"\"\"\n",
    "        original_shape = x.shape\n",
    "        new_shape = (original_shape[0] + 2 * self.padding_size, original_shape[1] + 2 * self.padding_size)\n",
    "        y = np.zeros(new_shape)\n",
    "        y[padding_size: original_shape[0] + padding_size, padding_size: original_shape[1] + padding_size]\n",
    "        \n",
    "        return y\n",
    "    \n",
    "    def generate_filters(self) -> np.ndarray:\n",
    "        \"\"\"Generate a list of filters to use\"\"\"\n",
    "        return np.random.randn(self.filter_size, self.filter_size)\n",
    "        \n",
    "    def forward(self) -> np.ndarray:\n",
    "        \"\"\"Forward computation\"\"\"\n",
    "        y = self.add_padding(self.input_)\n",
    "        filter_ = self.generate_filter()\n",
    "        \n",
    "        return y\n"
   ]
  },
  {
   "cell_type": "code",
   "execution_count": 13,
   "metadata": {},
   "outputs": [],
   "source": [
    "class Activator:\n",
    "    \n",
    "    @staticmethod\n",
    "    def relu(x: np.ndarray) -> np.ndarray:\n",
    "        \"\"\"ReLU\n",
    "        \n",
    "        Definition: $f(x) = max(0, x)$\n",
    "        \n",
    "        See: https://en.wikipedia.org/wiki/Rectifier_(neural_networks)\n",
    "        \"\"\"\n",
    "        return x * (x > 0)"
   ]
  },
  {
   "cell_type": "code",
   "execution_count": 10,
   "metadata": {},
   "outputs": [
    {
     "data": {
      "text/plain": [
       "numpy.ndarray"
      ]
     },
     "execution_count": 10,
     "metadata": {},
     "output_type": "execute_result"
    }
   ],
   "source": [
    "type(train_images)"
   ]
  },
  {
   "cell_type": "markdown",
   "metadata": {},
   "source": [
    "## Pooling Layer\n",
    "\n",
    "- makes the representations smaller and more manageable \n",
    "- operates over each activation map independently"
   ]
  },
  {
   "cell_type": "code",
   "execution_count": 20,
   "metadata": {},
   "outputs": [],
   "source": [
    "# The pooling is usually done by a simple operation like max, min, or average. Here we use `max`.\n",
    "class MaxPooling:\n",
    "    \n",
    "    def __init__(self, input_: np.ndarray, size: int, activator: Callable):\n",
    "        self.input_ = input_\n",
    "        self.size = size\n",
    "        self.activator = activator\n",
    "    \n",
    "    def forward(self) -> np.ndarray:\n",
    "        input_shape = self._input.shape\n",
    "        output = np.zeroes(input_shape[0] // 2, input_shape[1] // 2, 1)\n",
    "        \n",
    "        return output\n"
   ]
  },
  {
   "cell_type": "markdown",
   "metadata": {},
   "source": [
    "## Fully Connected Layer\n",
    "\n",
    "- Contains neurons that connect to the entire input volume, as in ordinary Neural Networksaz"
   ]
  },
  {
   "cell_type": "markdown",
   "metadata": {},
   "source": [
    "## 3. Back Propagation"
   ]
  },
  {
   "cell_type": "markdown",
   "metadata": {},
   "source": [
    "## 4. Summary"
   ]
  },
  {
   "cell_type": "code",
   "execution_count": null,
   "metadata": {},
   "outputs": [],
   "source": []
  }
 ],
 "metadata": {
  "kernelspec": {
   "display_name": "Python 3",
   "language": "python",
   "name": "python3"
  },
  "language_info": {
   "codemirror_mode": {
    "name": "ipython",
    "version": 3
   },
   "file_extension": ".py",
   "mimetype": "text/x-python",
   "name": "python",
   "nbconvert_exporter": "python",
   "pygments_lexer": "ipython3",
   "version": "3.6.8"
  }
 },
 "nbformat": 4,
 "nbformat_minor": 2
}
